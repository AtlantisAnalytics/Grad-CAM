{
  "cells": [
    {
      "cell_type": "markdown",
      "metadata": {
        "id": "view-in-github",
        "colab_type": "text"
      },
      "source": [
        "<a href=\"https://colab.research.google.com/github/AtlantisAnalytics/Grad-CAM/blob/main/gradCam_office31.ipynb\" target=\"_parent\"><img src=\"https://colab.research.google.com/assets/colab-badge.svg\" alt=\"Open In Colab\"/></a>"
      ]
    },
    {
      "cell_type": "markdown",
      "id": "27c1df77",
      "metadata": {
        "id": "27c1df77"
      },
      "source": [
        "# Grad-CAM visualisations for Office31 Dataset"
      ]
    },
    {
      "cell_type": "markdown",
      "source": [
        "## Mounting Drive"
      ],
      "metadata": {
        "id": "6VXU_Qdo2qQm"
      },
      "id": "6VXU_Qdo2qQm"
    },
    {
      "cell_type": "code",
      "source": [
        "from google.colab import drive\n",
        "drive.mount('/content/drive')"
      ],
      "metadata": {
        "colab": {
          "base_uri": "https://localhost:8080/"
        },
        "id": "Qo53PBo62vvU",
        "outputId": "1d002723-e2c6-4f72-a829-299814647d83"
      },
      "id": "Qo53PBo62vvU",
      "execution_count": null,
      "outputs": [
        {
          "output_type": "stream",
          "name": "stdout",
          "text": [
            "Drive already mounted at /content/drive; to attempt to forcibly remount, call drive.mount(\"/content/drive\", force_remount=True).\n"
          ]
        }
      ]
    },
    {
      "cell_type": "code",
      "source": [
        "import os\n",
        "os.chdir('/content/drive/MyDrive/varun')"
      ],
      "metadata": {
        "id": "UX9PYR872vyt"
      },
      "id": "UX9PYR872vyt",
      "execution_count": null,
      "outputs": []
    },
    {
      "cell_type": "markdown",
      "id": "de0900de",
      "metadata": {
        "id": "de0900de"
      },
      "source": [
        "## Selecting particular folder and class from Office31 Dataset"
      ]
    },
    {
      "cell_type": "code",
      "execution_count": null,
      "id": "d762df20",
      "metadata": {
        "id": "d762df20"
      },
      "outputs": [],
      "source": [
        "# importing the needed package\n",
        "import os\n",
        "from skimage import io\n",
        "from warnings import filterwarnings\n",
        "import tensorflow as tf\n",
        "from tensorflow import io\n",
        "from tensorflow import image\n",
        "from matplotlib import pyplot as plt\n",
        "from PIL import Image"
      ]
    },
    {
      "cell_type": "code",
      "execution_count": null,
      "id": "690f98b4",
      "metadata": {
        "id": "690f98b4"
      },
      "outputs": [],
      "source": [
        "# Run the below cell to select a particular class"
      ]
    },
    {
      "cell_type": "code",
      "execution_count": null,
      "id": "80e7a7e4",
      "metadata": {
        "colab": {
          "base_uri": "https://localhost:8080/"
        },
        "id": "80e7a7e4",
        "outputId": "cc5cff40-9c3c-4b6f-9981-c407f9e915e3"
      },
      "outputs": [
        {
          "name": "stdout",
          "output_type": "stream",
          "text": [
            "['webcam', 'dslr', 'amazon']\n",
            "Select any one out of these\n",
            "\n",
            "dslr\n",
            "['trash_can', 'projector', 'ring_binder', 'punchers', 'ruler', 'speaker', 'scissors', 'stapler', 'tape_dispenser', 'letter_tray', 'monitor', 'printer', 'paper_notebook', 'pen', 'mouse', 'laptop_computer', 'mobile_phone', 'phone', 'mug', 'desk_lamp', 'file_cabinet', 'calculator', 'desktop_computer', 'bike_helmet', 'headphones', 'desk_chair', 'keyboard', 'bottle', 'bookcase', 'back_pack', 'bike']\n",
            "Select one of above file to view images in it\n",
            "mug\n"
          ]
        }
      ],
      "source": [
        "try:\n",
        "    print(os.listdir('office31'))\n",
        "    print('Select any one out of these\\n')\n",
        "    x = input()\n",
        "    print(os.listdir('office31/'+x+'/images'))\n",
        "    y = input('Select one of above file to view images in it\\n')\n",
        "    path='office31/'+x+'/images/'+y\n",
        "    \"\"\" for filename in os.listdir(path):\n",
        "        f = os.path.join(path, filename)\n",
        "        filterwarnings(\"ignore\")\n",
        "        tf_img = io.read_file(f)\n",
        "        tf_img = image.decode_png(tf_img, channels=3)\n",
        "        plt.imshow(tf_img)\n",
        "        plt.show()\"\"\"\n",
        "except:\n",
        "    print('Invalid argument entered')"
      ]
    },
    {
      "cell_type": "code",
      "execution_count": null,
      "id": "92096abe",
      "metadata": {
        "id": "92096abe",
        "outputId": "eb13d0f1-9168-4597-de4a-7beff8f2ae05",
        "colab": {
          "base_uri": "https://localhost:8080/",
          "height": 36
        }
      },
      "outputs": [
        {
          "output_type": "execute_result",
          "data": {
            "text/plain": [
              "'office31/dslr/images/mug'"
            ],
            "application/vnd.google.colaboratory.intrinsic+json": {
              "type": "string"
            }
          },
          "metadata": {},
          "execution_count": 6
        }
      ],
      "source": [
        "# lets view the selected path\n",
        "path"
      ]
    },
    {
      "cell_type": "markdown",
      "id": "0f218ad1",
      "metadata": {
        "id": "0f218ad1"
      },
      "source": [
        "## Implementing Grad-CAMs"
      ]
    },
    {
      "cell_type": "code",
      "execution_count": null,
      "id": "f2d27d24",
      "metadata": {
        "id": "f2d27d24"
      },
      "outputs": [],
      "source": [
        "import numpy as np\n",
        "import tensorflow as tf\n",
        "from tensorflow import keras\n",
        "\n",
        "# Display\n",
        "from IPython.display import Image, display\n",
        "import matplotlib.pyplot as plt\n",
        "import matplotlib.cm as cm\n",
        "from PIL import Image"
      ]
    },
    {
      "cell_type": "code",
      "execution_count": null,
      "id": "19a7859f",
      "metadata": {
        "id": "19a7859f"
      },
      "outputs": [],
      "source": [
        "# Defining the model\n",
        "\n",
        "model_builder = keras.applications.xception.Xception\n",
        "img_size = (299, 299)\n",
        "preprocess_input = keras.applications.xception.preprocess_input\n",
        "decode_predictions = keras.applications.xception.decode_predictions\n",
        "\n",
        "last_conv_layer_name = \"block14_sepconv2_act\"\n",
        "# The local path to our target image"
      ]
    },
    {
      "cell_type": "code",
      "execution_count": null,
      "id": "581ce496",
      "metadata": {
        "id": "581ce496"
      },
      "outputs": [],
      "source": [
        "# Converting Images to array\n",
        "def get_img_array(img_path, size):\n",
        "    # `img` is a PIL image of size 299x299\n",
        "    img = keras.preprocessing.image.load_img(img_path, target_size=size)\n",
        "    # `array` is a float32 Numpy array of shape (299, 299, 3)\n",
        "    array = keras.preprocessing.image.img_to_array(img)\n",
        "    # We add a dimension to transform our array into a \"batch\"\n",
        "    # of size (1, 299, 299, 3)\n",
        "    array = np.expand_dims(array, axis=0)\n",
        "    return array"
      ]
    },
    {
      "cell_type": "code",
      "execution_count": null,
      "id": "f849ebca",
      "metadata": {
        "id": "f849ebca"
      },
      "outputs": [],
      "source": [
        "# Making Gradient CAM Heatmaps\n",
        "def make_gradcam_heatmap(img_array, model, last_conv_layer_name, pred_index=None):\n",
        "    # First, we create a model that maps the input image to the activations\n",
        "    # of the last conv layer as well as the output predictions\n",
        "    grad_model = tf.keras.models.Model(\n",
        "        [model.inputs], [model.get_layer(last_conv_layer_name).output, model.output]\n",
        "    )\n",
        "\n",
        "    # Then, we compute the gradient of the top predicted class for our input image\n",
        "    # with respect to the activations of the last conv layer\n",
        "    with tf.GradientTape() as tape:\n",
        "        last_conv_layer_output, preds = grad_model(img_array)\n",
        "        if pred_index is None:\n",
        "            pred_index = tf.argmax(preds[0])\n",
        "        class_channel = preds[:, pred_index]\n",
        "\n",
        "    # This is the gradient of the output neuron (top predicted or chosen)\n",
        "    # with regard to the output feature map of the last conv layer\n",
        "    grads = tape.gradient(class_channel, last_conv_layer_output)\n",
        "\n",
        "    # This is a vector where each entry is the mean intensity of the gradient\n",
        "    # over a specific feature map channel\n",
        "    pooled_grads = tf.reduce_mean(grads, axis=(0, 1, 2))\n",
        "\n",
        "    # We multiply each channel in the feature map array\n",
        "    # by \"how important this channel is\" with regard to the top predicted class\n",
        "    # then sum all the channels to obtain the heatmap class activation\n",
        "    last_conv_layer_output = last_conv_layer_output[0]\n",
        "    heatmap = last_conv_layer_output @ pooled_grads[..., tf.newaxis]\n",
        "    heatmap = tf.squeeze(heatmap)\n",
        "\n",
        "    # For visualization purpose, we will also normalize the heatmap between 0 & 1\n",
        "    heatmap = tf.maximum(heatmap, 0) / tf.math.reduce_max(heatmap)\n",
        "    return heatmap.numpy()"
      ]
    },
    {
      "cell_type": "code",
      "execution_count": null,
      "id": "cd27e099",
      "metadata": {
        "id": "cd27e099"
      },
      "outputs": [],
      "source": [
        "# Combining Heatmaps and Images\n",
        "def display_gradcam(img_path, heatmap, cam_path, alpha=0.4):\n",
        "    # Load the original image\n",
        "    img = keras.preprocessing.image.load_img(img_path)\n",
        "    img = keras.preprocessing.image.img_to_array(img)\n",
        "\n",
        "    # Rescale heatmap to a range 0-255\n",
        "    heatmap = np.uint8(255 * heatmap)\n",
        "\n",
        "    # Use jet colormap to colorize heatmap\n",
        "    jet = cm.get_cmap(\"jet\")\n",
        "\n",
        "    # Use RGB values of the colormap\n",
        "    jet_colors = jet(np.arange(256))[:, :3]\n",
        "    jet_heatmap = jet_colors[heatmap]\n",
        "\n",
        "    # Create an image with RGB colorized heatmap\n",
        "    jet_heatmap = keras.preprocessing.image.array_to_img(jet_heatmap)\n",
        "    jet_heatmap = jet_heatmap.resize((img.shape[1], img.shape[0]))\n",
        "    jet_heatmap = keras.preprocessing.image.img_to_array(jet_heatmap)\n",
        "\n",
        "    # Superimpose the heatmap on original image\n",
        "    superimposed_img = jet_heatmap * alpha + img\n",
        "    superimposed_img = keras.preprocessing.image.array_to_img(superimposed_img)\n",
        "    # Save the superimposed image\n",
        "    superimposed_img.save(cam_path)\n",
        "\n",
        "    # Display Grad CAM\n",
        "    im = Image.open(cam_path)\n",
        "    display(im)\n"
      ]
    },
    {
      "cell_type": "code",
      "execution_count": null,
      "id": "86a96f89",
      "metadata": {
        "id": "86a96f89",
        "outputId": "44995367-e74d-429e-a69d-4270ba737f78",
        "colab": {
          "base_uri": "https://localhost:8080/",
          "height": 1000
        }
      },
      "outputs": [],
      "source": [
        "# Make model\n",
        "model = model_builder(weights=\"imagenet\")\n",
        "model.layers[-1].activation = None\n",
        "\n",
        "# Implementing Grad-CAMs\n",
        "for filename in os.listdir(path):\n",
        "    img_path = path +'/'+filename\n",
        "    # Prepare image\n",
        "    img_array = preprocess_input(get_img_array(img_path, size=img_size))\n",
        "\n",
        "    # Print what the two top predicted classes are\n",
        "    preds = model.predict(img_array)\n",
        "    print(\"Predicted:\", decode_predictions(preds, top=2)[0])\n",
        "    heatmap = make_gradcam_heatmap(img_array, model, last_conv_layer_name, pred_index=260)\n",
        "    display_gradcam(img_path, heatmap , filename)\n",
        "    os.remove(filename)"
      ]
    },
    {
      "cell_type": "code",
      "execution_count": null,
      "id": "6f46415a",
      "metadata": {
        "id": "6f46415a"
      },
      "outputs": [],
      "source": []
    }
  ],
  "metadata": {
    "kernelspec": {
      "display_name": "Python 3 (ipykernel)",
      "language": "python",
      "name": "python3"
    },
    "language_info": {
      "codemirror_mode": {
        "name": "ipython",
        "version": 3
      },
      "file_extension": ".py",
      "mimetype": "text/x-python",
      "name": "python",
      "nbconvert_exporter": "python",
      "pygments_lexer": "ipython3",
      "version": "3.9.12"
    },
    "colab": {
      "provenance": [],
      "include_colab_link": true
    }
  },
  "nbformat": 4,
  "nbformat_minor": 5
}